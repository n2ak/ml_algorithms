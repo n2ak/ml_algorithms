{
 "cells": [
  {
   "cell_type": "code",
   "execution_count": 1,
   "metadata": {},
   "outputs": [],
   "source": [
    "from src import Tensor,cross_entropy,Adam,SGD,Linear, Module, Sequential, ReLU,dataloader\n",
    "import os\n",
    "import sys\n",
    "import numpy as np\n",
    "module_path = os.path.abspath(os.path.join('..'))\n",
    "if module_path not in sys.path:\n",
    "    sys.path.append(module_path)"
   ]
  },
  {
   "cell_type": "code",
   "execution_count": 2,
   "metadata": {},
   "outputs": [],
   "source": [
    "import sklearn.datasets\n",
    "train_X, train_y = sklearn.datasets.load_digits(return_X_y=True)"
   ]
  },
  {
   "cell_type": "code",
   "execution_count": 3,
   "metadata": {},
   "outputs": [
    {
     "name": "stdout",
     "output_type": "stream",
     "text": [
      "[Epoch   1] loss: 2.795 accuracy: 61.04\n",
      "[Epoch   2] loss: 0.388 accuracy: 88.67\n",
      "[Epoch   3] loss: 0.222 accuracy: 92.68\n",
      "[Epoch   4] loss: 0.176 accuracy: 93.46\n",
      "[Epoch   5] loss: 0.121 accuracy: 96.25\n",
      "[Epoch   6] loss: 0.112 accuracy: 96.74\n",
      "[Epoch   7] loss: 0.096 accuracy: 97.34\n",
      "[Epoch   8] loss: 0.040 accuracy: 98.59\n",
      "[Epoch   9] loss: 0.034 accuracy: 99.22\n",
      "[Epoch  10] loss: 0.036 accuracy: 98.96\n",
      "Finished Training\n"
     ]
    }
   ],
   "source": [
    "class Net(Module):\n",
    "    def __init__(self, outc):\n",
    "        super().__init__()\n",
    "        self.seq = Sequential(\n",
    "            Linear(None, 64, bias=True),\n",
    "            ReLU(),\n",
    "            Linear(None, 64*2, bias=True),\n",
    "            ReLU(),\n",
    "            Linear(None, outc),\n",
    "        )\n",
    "\n",
    "    def forward(self, x):\n",
    "        x = self.seq(x)\n",
    "        return x\n",
    "\n",
    "\n",
    "net = Net(len(np.unique(train_y)))\n",
    "optimizer = Adam(net.trainable_params(), lr=0.001,amsgrad=True)\n",
    "for epoch in range(10):  # loop over the dataset multiple times\n",
    "    losses = []\n",
    "    accs = []\n",
    "    for X, y in dataloader(64*2, train_X, train_y):\n",
    "\n",
    "        # forward + backward + optimize\n",
    "        outputs = net.forward(X)\n",
    "        loss = cross_entropy(outputs, y)\n",
    "\n",
    "        optimizer.zero_grad()\n",
    "        loss.backward()\n",
    "        assert loss.item() > 0, loss\n",
    "        optimizer.step()\n",
    "\n",
    "        losses.append(loss.item())\n",
    "        accs.append((outputs.data.argmax(-1) == y.data).astype(float).mean())\n",
    "    print(\n",
    "        f'[Epoch {epoch + 1:3}] loss: {np.mean(losses):.3f} accuracy: {np.mean(accs)*100:3.2f}')\n",
    "\n",
    "print('Finished Training')"
   ]
  },
  {
   "cell_type": "code",
   "execution_count": 4,
   "metadata": {},
   "outputs": [
    {
     "data": {
      "text/plain": [
       "0.9922092376182526"
      ]
     },
     "execution_count": 4,
     "metadata": {},
     "output_type": "execute_result"
    }
   ],
   "source": [
    "(train_y == net(Tensor(train_X)).data.argmax(-1)).mean()"
   ]
  }
 ],
 "metadata": {
  "kernelspec": {
   "display_name": "Python 3",
   "language": "python",
   "name": "python3"
  },
  "language_info": {
   "codemirror_mode": {
    "name": "ipython",
    "version": 3
   },
   "file_extension": ".py",
   "mimetype": "text/x-python",
   "name": "python",
   "nbconvert_exporter": "python",
   "pygments_lexer": "ipython3",
   "version": "3.9.5"
  }
 },
 "nbformat": 4,
 "nbformat_minor": 2
}
