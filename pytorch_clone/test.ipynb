{
 "cells": [
  {
   "cell_type": "code",
   "execution_count": 1,
   "metadata": {},
   "outputs": [],
   "source": [
    "from src import Tensor,cross_entropy,SGD,Linear, Module, Sequential, ReLU,dataloader\n",
    "import os\n",
    "import sys\n",
    "import numpy as np\n",
    "module_path = os.path.abspath(os.path.join('..'))\n",
    "if module_path not in sys.path:\n",
    "    sys.path.append(module_path)"
   ]
  },
  {
   "cell_type": "code",
   "execution_count": 2,
   "metadata": {},
   "outputs": [],
   "source": [
    "import sklearn.datasets\n",
    "train_X, train_y = sklearn.datasets.load_digits(return_X_y=True)"
   ]
  },
  {
   "cell_type": "code",
   "execution_count": 3,
   "metadata": {},
   "outputs": [
    {
     "name": "stdout",
     "output_type": "stream",
     "text": [
      "[Epoch   1] loss: 6.960 accuracy: 7.03\n",
      "[Epoch   2] loss: 4.084 accuracy: 19.88\n",
      "[Epoch   3] loss: 2.861 accuracy: 38.35\n",
      "[Epoch   4] loss: 2.267 accuracy: 45.11\n",
      "[Epoch   5] loss: 1.799 accuracy: 53.58\n",
      "[Epoch   6] loss: 1.498 accuracy: 58.19\n",
      "[Epoch   7] loss: 1.288 accuracy: 63.79\n",
      "[Epoch   8] loss: 1.074 accuracy: 69.50\n",
      "[Epoch   9] loss: 0.983 accuracy: 73.09\n",
      "[Epoch  10] loss: 0.907 accuracy: 73.38\n",
      "Finished Training\n"
     ]
    }
   ],
   "source": [
    "class Net(Module):\n",
    "    def __init__(self, inc, outc):\n",
    "        super().__init__()\n",
    "        self.seq = Sequential(\n",
    "            Linear(inc, 64, bias=True),\n",
    "            ReLU(),\n",
    "            Linear(64, 64*2, bias=True),\n",
    "            ReLU(),\n",
    "            Linear(64*2, outc),\n",
    "        )\n",
    "\n",
    "    def forward(self, x):\n",
    "        x = self.seq(x)\n",
    "        return x\n",
    "\n",
    "\n",
    "net = Net(train_X.shape[1], len(np.unique(train_y)))\n",
    "optimizer = SGD(net.trainable_params(), lr=0.001, momentum=0.9)\n",
    "for epoch in range(10):  # loop over the dataset multiple times\n",
    "    losses = []\n",
    "    accs = []\n",
    "    for X, y in dataloader(64*2, train_X, train_y):\n",
    "\n",
    "        # forward + backward + optimize\n",
    "        outputs = net.forward(X)\n",
    "        loss = cross_entropy(outputs, y)\n",
    "\n",
    "        optimizer.zero_grad()\n",
    "        loss.backward()\n",
    "        assert loss.item() > 0, loss\n",
    "        optimizer.step()\n",
    "\n",
    "        losses.append(loss.item())\n",
    "        accs.append((outputs.data.argmax(-1) == y.data).astype(float).mean())\n",
    "    print(\n",
    "        f'[Epoch {epoch + 1:3}] loss: {np.mean(losses):.3f} accuracy: {np.mean(accs)*100:3.2f}')\n",
    "\n",
    "print('Finished Training')"
   ]
  }
 ],
 "metadata": {
  "kernelspec": {
   "display_name": "Python 3",
   "language": "python",
   "name": "python3"
  },
  "language_info": {
   "codemirror_mode": {
    "name": "ipython",
    "version": 3
   },
   "file_extension": ".py",
   "mimetype": "text/x-python",
   "name": "python",
   "nbconvert_exporter": "python",
   "pygments_lexer": "ipython3",
   "version": "3.9.5"
  }
 },
 "nbformat": 4,
 "nbformat_minor": 2
}
