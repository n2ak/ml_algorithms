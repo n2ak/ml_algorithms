{
 "cells": [
  {
   "cell_type": "code",
   "execution_count": 1,
   "metadata": {},
   "outputs": [],
   "source": [
    "from src import Tensor,cross_entropy,Adam,SGD,Linear, Module, Sequential, ReLU,dataloader\n",
    "import os\n",
    "import sys\n",
    "import numpy as np\n",
    "module_path = os.path.abspath(os.path.join('..'))\n",
    "if module_path not in sys.path:\n",
    "    sys.path.append(module_path)"
   ]
  },
  {
   "cell_type": "code",
   "execution_count": 2,
   "metadata": {},
   "outputs": [],
   "source": [
    "import sklearn.datasets\n",
    "train_X, train_y = sklearn.datasets.load_digits(return_X_y=True)"
   ]
  },
  {
   "cell_type": "code",
   "execution_count": 10,
   "metadata": {},
   "outputs": [],
   "source": [
    "class Net(Module):\n",
    "    def __init__(self, outc):\n",
    "        super().__init__()\n",
    "        self.seq = Sequential(\n",
    "            Linear(None, 64, bias=True),\n",
    "            ReLU(),\n",
    "            Linear(None, 64*2, bias=True),\n",
    "            ReLU(),\n",
    "            Linear(None, outc),\n",
    "        )\n",
    "\n",
    "    def forward(self, x):\n",
    "        x = self.seq(x)\n",
    "        return x\n",
    "\n",
    "\n",
    "def train(net, optimizer, batch_size=128):\n",
    "    import tqdm,math,time\n",
    "    start = time.monotonic()\n",
    "    for epoch in range(10):  # loop over the dataset multiple times\n",
    "        losses = []\n",
    "        accs = []\n",
    "        \n",
    "        for X, y in (bar := tqdm.tqdm(dataloader(batch_size, train_X, train_y), total=math.ceil(len(train_y)/batch_size))):\n",
    "\n",
    "            # forward + backward + optimize\n",
    "            outputs = net.forward(X)\n",
    "            loss = cross_entropy(outputs, y)\n",
    "\n",
    "            optimizer.zero_grad()\n",
    "            loss.backward()\n",
    "            assert loss.item() > 0, loss\n",
    "            optimizer.step()\n",
    "\n",
    "            losses.append(loss.item())\n",
    "            accs.append((outputs.data.argmax(-1) == y.data).astype(float).mean())\n",
    "            bar.set_description(\n",
    "                f'[Epoch {epoch + 1:3}] loss: {np.mean(losses):3.3f} accuracy: {np.mean(accs)*100:3.2f}')\n",
    "    return time.monotonic() - start"
   ]
  },
  {
   "cell_type": "code",
   "execution_count": 11,
   "metadata": {},
   "outputs": [
    {
     "name": "stderr",
     "output_type": "stream",
     "text": [
      "[Epoch   1] loss: 8.902 accuracy: 6.91: 100%|██████████| 15/15 [00:00<00:00, 369.61it/s]\n",
      "[Epoch   2] loss: 4.538 accuracy: 19.09: 100%|██████████| 15/15 [00:00<00:00, 365.84it/s]\n",
      "[Epoch   3] loss: 3.016 accuracy: 36.12: 100%|██████████| 15/15 [00:00<00:00, 393.66it/s]\n",
      "[Epoch   4] loss: 2.021 accuracy: 51.01: 100%|██████████| 15/15 [00:00<00:00, 220.11it/s]\n",
      "[Epoch   5] loss: 1.540 accuracy: 60.83: 100%|██████████| 15/15 [00:00<00:00, 367.59it/s]\n",
      "[Epoch   6] loss: 1.366 accuracy: 64.16: 100%|██████████| 15/15 [00:00<00:00, 375.00it/s]\n",
      "[Epoch   7] loss: 1.132 accuracy: 69.43: 100%|██████████| 15/15 [00:00<00:00, 384.60it/s]\n",
      "[Epoch   8] loss: 1.087 accuracy: 69.73: 100%|██████████| 15/15 [00:00<00:00, 374.99it/s]\n",
      "[Epoch   9] loss: 0.946 accuracy: 72.59: 100%|██████████| 15/15 [00:00<00:00, 394.73it/s]\n",
      "[Epoch  10] loss: 0.909 accuracy: 72.51: 100%|██████████| 15/15 [00:00<00:00, 404.03it/s]"
     ]
    },
    {
     "name": "stdout",
     "output_type": "stream",
     "text": [
      "Finished Training with SGD in : 0.4370 s\n"
     ]
    },
    {
     "name": "stderr",
     "output_type": "stream",
     "text": [
      "\n"
     ]
    }
   ],
   "source": [
    "net = Net(len(np.unique(train_y)))\n",
    "optimizer = SGD(net.trainable_params(), lr=0.001)\n",
    "time = train(net, optimizer)\n",
    "print(f'Finished Training with SGD in : {time:.4f} s')"
   ]
  },
  {
   "cell_type": "code",
   "execution_count": 13,
   "metadata": {},
   "outputs": [
    {
     "name": "stderr",
     "output_type": "stream",
     "text": [
      "[Epoch   1] loss: 3.358 accuracy: 55.10: 100%|██████████| 15/15 [00:00<00:00, 298.08it/s]\n",
      "[Epoch   2] loss: 0.362 accuracy: 89.95: 100%|██████████| 15/15 [00:00<00:00, 293.89it/s]\n",
      "[Epoch   3] loss: 0.168 accuracy: 94.74: 100%|██████████| 15/15 [00:00<00:00, 356.53it/s]\n",
      "[Epoch   4] loss: 0.100 accuracy: 97.08: 100%|██████████| 15/15 [00:00<00:00, 356.41it/s]\n",
      "[Epoch   5] loss: 0.063 accuracy: 98.65: 100%|██████████| 15/15 [00:00<00:00, 383.34it/s]\n",
      "[Epoch   6] loss: 0.045 accuracy: 99.06: 100%|██████████| 15/15 [00:00<00:00, 374.64it/s]\n",
      "[Epoch   7] loss: 0.031 accuracy: 99.48: 100%|██████████| 15/15 [00:00<00:00, 341.08it/s]\n",
      "[Epoch   8] loss: 0.023 accuracy: 99.69: 100%|██████████| 15/15 [00:00<00:00, 293.72it/s]\n",
      "[Epoch   9] loss: 0.018 accuracy: 99.79: 100%|██████████| 15/15 [00:00<00:00, 333.25it/s]\n",
      "[Epoch  10] loss: 0.014 accuracy: 99.84: 100%|██████████| 15/15 [00:00<00:00, 357.61it/s]"
     ]
    },
    {
     "name": "stdout",
     "output_type": "stream",
     "text": [
      "Finished Training with Adam in : 0.4530 s\n"
     ]
    },
    {
     "name": "stderr",
     "output_type": "stream",
     "text": [
      "\n"
     ]
    }
   ],
   "source": [
    "net = Net(len(np.unique(train_y)))\n",
    "optimizer = Adam(net.trainable_params(), lr=0.001, amsgrad=True)\n",
    "time = train(net, optimizer)\n",
    "print(f'Finished Training with Adam in : {time:.4f} s')"
   ]
  }
 ],
 "metadata": {
  "kernelspec": {
   "display_name": "Python 3",
   "language": "python",
   "name": "python3"
  },
  "language_info": {
   "codemirror_mode": {
    "name": "ipython",
    "version": 3
   },
   "file_extension": ".py",
   "mimetype": "text/x-python",
   "name": "python",
   "nbconvert_exporter": "python",
   "pygments_lexer": "ipython3",
   "version": "3.9.5"
  }
 },
 "nbformat": 4,
 "nbformat_minor": 2
}
