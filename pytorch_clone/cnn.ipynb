{
 "cells": [
  {
   "cell_type": "code",
   "execution_count": 1,
   "metadata": {},
   "outputs": [],
   "source": [
    "from src import Tensor,cross_entropy,Adam,SGD,Linear, Module, Sequential, ReLU,dataloader,Conv2D\n",
    "import os\n",
    "import sys\n",
    "import numpy as np\n",
    "module_path = os.path.abspath(os.path.join('..'))\n",
    "if module_path not in sys.path:\n",
    "    sys.path.append(module_path)"
   ]
  },
  {
   "cell_type": "code",
   "execution_count": 2,
   "metadata": {},
   "outputs": [],
   "source": [
    "import sklearn.datasets\n",
    "train_X, train_y = sklearn.datasets.load_digits(return_X_y=True)"
   ]
  },
  {
   "cell_type": "code",
   "execution_count": 3,
   "metadata": {},
   "outputs": [],
   "source": [
    "class Net(Module):\n",
    "    def __init__(self, outc, impl):\n",
    "        super().__init__()\n",
    "        self.seq = Sequential(\n",
    "            Conv2D(None, 64, 3, conv_impl=impl),\n",
    "            ReLU(),\n",
    "            lambda x: x.reshape(x.shape[0], -1),\n",
    "            Linear(None, outc,bias=False)\n",
    "        )\n",
    "\n",
    "    def forward(self, x):\n",
    "        x = self.seq(x)\n",
    "        x = x.reshape(x.shape[0],-1)\n",
    "        return x\n",
    "\n",
    "\n",
    "def train(net, optim, train_X, train_y, epochs, batch_size=128):\n",
    "    if train_X.ndim == 2:\n",
    "        h=w=int(np.sqrt(train_X.shape[1]))\n",
    "        train_X = train_X.reshape(train_X.shape[0],1,h,w)\n",
    "    import time,tqdm,math\n",
    "    start = time.monotonic()\n",
    "    for epoch in range(epochs):  # loop over the dataset multiple times\n",
    "        losses = []\n",
    "        accs = []\n",
    "        for X, y in (bar := tqdm.tqdm(dataloader(batch_size, train_X, train_y), total=math.ceil(len(train_y)/batch_size))):\n",
    "            # forward + backward + optimize\n",
    "            outputs = net.forward(X)\n",
    "            loss = cross_entropy(outputs, y)\n",
    "            optim.zero_grad()\n",
    "            loss.backward()\n",
    "            assert loss.item() >= 0, loss\n",
    "            optim.step()\n",
    "\n",
    "            losses.append(loss.item())\n",
    "            accs.append((outputs.data.argmax(-1) == y.data).astype(float).mean())\n",
    "            bar.set_description(f'[Epoch {epoch + 1:3}] loss: {np.mean(losses):3.3f} accuracy: {np.mean(accs)*100:3.2f}')\n",
    "    return time.monotonic() - start"
   ]
  },
  {
   "cell_type": "code",
   "execution_count": 4,
   "metadata": {},
   "outputs": [
    {
     "name": "stderr",
     "output_type": "stream",
     "text": [
      "[Epoch   1] loss: 58.161 accuracy: 42.42: 100%|██████████| 15/15 [00:01<00:00, 10.93it/s]\n",
      "[Epoch   2] loss: 7.577 accuracy: 88.59: 100%|██████████| 15/15 [00:01<00:00, 10.93it/s]\n",
      "[Epoch   3] loss: 3.841 accuracy: 93.23: 100%|██████████| 15/15 [00:01<00:00, 11.09it/s]\n",
      "[Epoch   4] loss: 2.385 accuracy: 94.86: 100%|██████████| 15/15 [00:01<00:00, 10.77it/s]\n",
      "[Epoch   5] loss: 2.854 accuracy: 94.79: 100%|██████████| 15/15 [00:01<00:00, 11.07it/s]\n",
      "[Epoch   6] loss: 2.238 accuracy: 94.86: 100%|██████████| 15/15 [00:01<00:00, 11.06it/s]\n",
      "[Epoch   7] loss: 1.507 accuracy: 96.04: 100%|██████████| 15/15 [00:01<00:00, 11.03it/s]\n",
      "[Epoch   8] loss: 0.713 accuracy: 97.97: 100%|██████████| 15/15 [00:01<00:00, 10.75it/s]\n",
      "[Epoch   9] loss: 0.251 accuracy: 98.96: 100%|██████████| 15/15 [00:01<00:00, 10.70it/s]\n",
      "[Epoch  10] loss: 0.189 accuracy: 99.17: 100%|██████████| 15/15 [00:01<00:00, 11.01it/s]"
     ]
    },
    {
     "name": "stdout",
     "output_type": "stream",
     "text": [
      "Finished Training in : 13.7350 s\n"
     ]
    },
    {
     "name": "stderr",
     "output_type": "stream",
     "text": [
      "\n"
     ]
    }
   ],
   "source": [
    "net = Net(np.unique(train_y).size, impl=\"slow\")\n",
    "optimizer = Adam(net.trainable_params(), lr=0.001, amsgrad=True)\n",
    "time = train(net, optimizer, train_X, train_y, 10)\n",
    "print(f'Finished Training in : {time:.4f} s')"
   ]
  },
  {
   "cell_type": "code",
   "execution_count": 5,
   "metadata": {},
   "outputs": [
    {
     "name": "stderr",
     "output_type": "stream",
     "text": [
      "[Epoch   1] loss: 32.999 accuracy: 58.13: 100%|██████████| 15/15 [00:01<00:00, 14.38it/s]\n",
      "[Epoch   2] loss: 5.907 accuracy: 90.73: 100%|██████████| 15/15 [00:01<00:00, 14.49it/s]\n",
      "[Epoch   3] loss: 2.089 accuracy: 95.52: 100%|██████████| 15/15 [00:01<00:00, 14.65it/s]\n",
      "[Epoch   4] loss: 1.154 accuracy: 97.08: 100%|██████████| 15/15 [00:01<00:00, 14.67it/s]\n",
      "[Epoch   5] loss: 0.555 accuracy: 98.59: 100%|██████████| 15/15 [00:01<00:00, 14.59it/s]\n",
      "[Epoch   6] loss: 0.391 accuracy: 98.70: 100%|██████████| 15/15 [00:01<00:00, 14.00it/s]\n",
      "[Epoch   7] loss: 0.427 accuracy: 97.68: 100%|██████████| 15/15 [00:01<00:00, 14.03it/s]\n",
      "[Epoch   8] loss: 1.714 accuracy: 95.68: 100%|██████████| 15/15 [00:01<00:00, 14.29it/s]\n",
      "[Epoch   9] loss: 0.640 accuracy: 97.92: 100%|██████████| 15/15 [00:01<00:00, 13.94it/s]\n",
      "[Epoch  10] loss: 0.314 accuracy: 99.01: 100%|██████████| 15/15 [00:01<00:00, 14.47it/s]"
     ]
    },
    {
     "name": "stdout",
     "output_type": "stream",
     "text": [
      "Finished Training in : 10.4690 s\n"
     ]
    },
    {
     "name": "stderr",
     "output_type": "stream",
     "text": [
      "\n"
     ]
    }
   ],
   "source": [
    "net = Net(np.unique(train_y).size, impl=\"fast_forward\")\n",
    "optimizer = Adam(net.trainable_params(), lr=0.001, amsgrad=True)\n",
    "time = train(net, optimizer, train_X, train_y, 10)\n",
    "print(f'Finished Training in : {time:.4f} s')"
   ]
  },
  {
   "cell_type": "code",
   "execution_count": 6,
   "metadata": {},
   "outputs": [
    {
     "name": "stderr",
     "output_type": "stream",
     "text": [
      "[Epoch   1] loss: 46.669 accuracy: 48.58: 100%|██████████| 15/15 [00:02<00:00,  6.74it/s]\n",
      "[Epoch   2] loss: 11.460 accuracy: 85.62: 100%|██████████| 15/15 [00:00<00:00, 105.80it/s]\n",
      "[Epoch   3] loss: 2.846 accuracy: 95.05: 100%|██████████| 15/15 [00:00<00:00, 105.11it/s]\n",
      "[Epoch   4] loss: 1.442 accuracy: 97.03: 100%|██████████| 15/15 [00:00<00:00, 105.64it/s]\n",
      "[Epoch   5] loss: 0.799 accuracy: 97.81: 100%|██████████| 15/15 [00:00<00:00, 106.67it/s]\n",
      "[Epoch   6] loss: 0.579 accuracy: 98.54: 100%|██████████| 15/15 [00:00<00:00, 105.90it/s]\n",
      "[Epoch   7] loss: 0.395 accuracy: 98.91: 100%|██████████| 15/15 [00:00<00:00, 106.67it/s]\n",
      "[Epoch   8] loss: 0.334 accuracy: 98.85: 100%|██████████| 15/15 [00:00<00:00, 106.88it/s]\n",
      "[Epoch   9] loss: 0.244 accuracy: 99.32: 100%|██████████| 15/15 [00:00<00:00, 106.78it/s]\n",
      "[Epoch  10] loss: 0.181 accuracy: 99.17: 100%|██████████| 15/15 [00:00<00:00, 106.53it/s]"
     ]
    },
    {
     "name": "stdout",
     "output_type": "stream",
     "text": [
      "Finished Training in : 3.5160 s\n"
     ]
    },
    {
     "name": "stderr",
     "output_type": "stream",
     "text": [
      "\n"
     ]
    }
   ],
   "source": [
    "net = Net(np.unique(train_y).size, impl=\"fast\")\n",
    "optimizer = Adam(net.trainable_params(), lr=0.001, amsgrad=True)\n",
    "time = train(net, optimizer, train_X, train_y, 10)\n",
    "print(f'Finished Training in : {time:.4f} s')"
   ]
  }
 ],
 "metadata": {
  "kernelspec": {
   "display_name": "Python 3",
   "language": "python",
   "name": "python3"
  },
  "language_info": {
   "codemirror_mode": {
    "name": "ipython",
    "version": 3
   },
   "file_extension": ".py",
   "mimetype": "text/x-python",
   "name": "python",
   "nbconvert_exporter": "python",
   "pygments_lexer": "ipython3",
   "version": "3.9.5"
  }
 },
 "nbformat": 4,
 "nbformat_minor": 2
}
