{
 "cells": [
  {
   "cell_type": "code",
   "execution_count": 1,
   "metadata": {},
   "outputs": [],
   "source": [
    "import torch\n",
    "from torch import nn\n",
    "from dataclasses import dataclass\n",
    "import numpy as np"
   ]
  },
  {
   "cell_type": "code",
   "execution_count": null,
   "metadata": {},
   "outputs": [],
   "source": []
  },
  {
   "cell_type": "code",
   "execution_count": null,
   "metadata": {},
   "outputs": [],
   "source": [
    "@dataclass\n",
    "class GPT2Config:\n",
    "    pass\n",
    "class MLP(nn.Sequential):\n",
    "    def __init__(self):\n",
    "        super().__init__(\n",
    "            nn.Linear(),\n",
    "        )\n",
    "class Attention(nn.Module):\n",
    "    def __init__(self, config: GPT2Config) -> None:\n",
    "        super().__init__()\n",
    "        self.Q = nn.Linear()\n",
    "        self.K = nn.Linear()\n",
    "        self.V = nn.Linear()\n",
    "    def forward(self,X):\n",
    "        return X\n",
    "class DecoderBlock(nn.Module):\n",
    "    def __init__(self, config:GPT2Config) -> None:\n",
    "        super().__init__()\n",
    "        self.attn = Attention(config)\n",
    "        self.norm = nn.LayerNorm()\n",
    "    def forward(self,X):\n",
    "        X = self.attn.forward(X)\n",
    "        X = self.norm(X)\n",
    "        return X\n",
    "class Decoder(nn.Module):\n",
    "    def __init__(self,config:GPT2Config):\n",
    "        super().__init__()\n",
    "        self.blocks = nn.Sequential(*[DecoderBlock(config) for _ in range(config.N)])\n",
    "    def forward(self,X):\n",
    "        X = self.blocks.forward(X)\n",
    "        return X\n",
    "class GPT2(nn.Module):\n",
    "    def __init__(self,config:GPT2Config):\n",
    "        super().__init__()\n",
    "        self.embedding = nn.Embedding(config.vocab_size,config.embd_dim)\n",
    "        self.decoder = Decoder(config)\n",
    "        self.head = MLP(config.vocab_size)\n",
    "    def forward(self,X):\n",
    "        X = self.embedding.forward(X)\n",
    "        X = self.decoder.forward(X)\n",
    "        X = self.head(X)\n",
    "        return X\n",
    "    def generate(self,prompt:str):\n",
    "        raise NotImplemented()\n",
    "gpt2 = GPT2(\n",
    "    GPT2Config(\n",
    "\n",
    "    )\n",
    ")"
   ]
  },
  {
   "cell_type": "code",
   "execution_count": null,
   "metadata": {},
   "outputs": [
    {
     "name": "stdout",
     "output_type": "stream",
     "text": [
      "Linear(in_features=10, out_features=10, bias=True)\n"
     ]
    }
   ],
   "source": [
    "torch.split()"
   ]
  },
  {
   "cell_type": "code",
   "execution_count": null,
   "metadata": {},
   "outputs": [],
   "source": [
    "gpt2.load_state_dict(gpt2_state)"
   ]
  },
  {
   "cell_type": "code",
   "execution_count": null,
   "metadata": {},
   "outputs": [],
   "source": [
    "gpt2.generate(\"Hello there I am\")"
   ]
  },
  {
   "cell_type": "code",
   "execution_count": null,
   "metadata": {},
   "outputs": [],
   "source": [
    "gpt2.state_dict()"
   ]
  }
 ],
 "metadata": {
  "kernelspec": {
   "display_name": "Python 3",
   "language": "python",
   "name": "python3"
  },
  "language_info": {
   "codemirror_mode": {
    "name": "ipython",
    "version": 3
   },
   "file_extension": ".py",
   "mimetype": "text/x-python",
   "name": "python",
   "nbconvert_exporter": "python",
   "pygments_lexer": "ipython3",
   "version": "3.12.1"
  }
 },
 "nbformat": 4,
 "nbformat_minor": 2
}
