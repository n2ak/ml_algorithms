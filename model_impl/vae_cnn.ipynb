{
 "cells": [
  {
   "cell_type": "code",
   "execution_count": null,
   "metadata": {},
   "outputs": [],
   "source": [
    "import torch\n",
    "from torch import nn\n",
    "import numpy as np\n",
    "import torch.nn.functional as F\n",
    "import matplotlib.pyplot as plt\n",
    "device = \"cuda\" if torch.cuda.is_available() else \"cpu\""
   ]
  },
  {
   "cell_type": "code",
   "execution_count": null,
   "metadata": {},
   "outputs": [],
   "source": [
    "class Encoder(nn.Module):\n",
    "    def __init__(self,channels) -> None:\n",
    "        super().__init__()\n",
    "        def conv(inc,outc,act):\n",
    "            return nn.Sequential(\n",
    "                nn.Conv2d(inc,outc,3,bias=False,stride=2,padding=1),\n",
    "                nn.BatchNorm2d(outc),\n",
    "                act(),\n",
    "            )\n",
    "        layers = []\n",
    "        for i, (inc, outc) in enumerate(zip(channels[:-1], channels[1:])):\n",
    "            act = nn.ReLU if i == len(channels)-2 else nn.Identity\n",
    "            layers.extend([\n",
    "                conv(inc, outc,act),\n",
    "            ])\n",
    "        self.layers = nn.ModuleList(layers)\n",
    "    def forward(self,x):\n",
    "        for layer in self.layers:\n",
    "            x = layer.forward(x)\n",
    "        return x\n",
    "class BottleNeck(nn.Module):\n",
    "    def __init__(self, inc,outc) -> None:\n",
    "        super().__init__()\n",
    "        self.mean = nn.Conv2d(inc,outc,3,padding=\"same\")\n",
    "        self.var = nn.Conv2d(inc, outc, 3, padding=\"same\")\n",
    "    def forward(self,x):\n",
    "        mean, var = self.mean(x), torch.exp(self.mean(x))\n",
    "        distribution = torch.distributions.Normal(mean, torch.sqrt(torch.exp(var)))\n",
    "        samples = distribution.rsample()\n",
    "        return samples,mean,var\n",
    "class Decoder(nn.Module):\n",
    "    def __init__(self, channels) -> None:\n",
    "        super().__init__()\n",
    "        def conv(inc,outc,act):\n",
    "            return nn.Sequential(\n",
    "                nn.ConvTranspose2d(inc, outc, 3, bias=False,stride=2,padding=1, output_padding=1),\n",
    "                nn.BatchNorm2d(outc),\n",
    "                act(),\n",
    "            )\n",
    "        layers = []\n",
    "        for i, (inc, outc) in enumerate(zip(channels[:-1], channels[1:])):\n",
    "            act = nn.ReLU if i == len(channels)-2 else nn.Identity\n",
    "            layers.extend([\n",
    "                conv(inc, outc, act),\n",
    "            ])\n",
    "        self.layers = nn.ModuleList(layers)\n",
    "\n",
    "    def forward(self, x):\n",
    "        for layer in self.layers:\n",
    "            x = layer.forward(x)\n",
    "        return x\n",
    "class Autoencoder(nn.Module):\n",
    "    def __init__(self, inc) -> None:\n",
    "        super().__init__()\n",
    "        latentc = 64\n",
    "        encoderc = [inc,32,latentc] \n",
    "        decoderc = encoderc[::-1]\n",
    "        self.encoder = Encoder(encoderc)\n",
    "        self.bottleneck = BottleNeck(latentc, latentc)\n",
    "        self.decoder = Decoder(decoderc)\n",
    "    def forward(self,x):\n",
    "        shape = x.shape\n",
    "        x = self.encoder(x)\n",
    "        # print(x.shape)\n",
    "        x,mean,var = self.bottleneck(x)\n",
    "        # print(x.shape)\n",
    "        x = self.decoder(x)\n",
    "        assert x.shape == shape,(x.shape,shape)\n",
    "        return F.sigmoid(x),mean,var\n",
    "\n",
    "\n",
    "model = Autoencoder(1).to(device)\n",
    "optimizer = torch.optim.Adam(model.parameters())\n",
    "losses = []\n",
    "# Autoencoder(1).forward(torch.empty((3, 1, 28, 28)))[0].shape"
   ]
  },
  {
   "cell_type": "code",
   "execution_count": null,
   "metadata": {},
   "outputs": [],
   "source": [
    "import torch.utils.data\n",
    "import torchvision\n",
    "batch_size = 64*2\n",
    "train_dl = torch.utils.data.DataLoader(\n",
    "    torchvision.datasets.FashionMNIST(\n",
    "        \"/datasets/fashion\",\n",
    "        download=True,\n",
    "        transform=torchvision.transforms.ToTensor()\n",
    "    ),\n",
    "    shuffle=True,batch_size=batch_size,\n",
    ")\n",
    "len(train_dl)"
   ]
  },
  {
   "cell_type": "code",
   "execution_count": 4,
   "metadata": {},
   "outputs": [
    {
     "name": "stderr",
     "output_type": "stream",
     "text": [
      "EPOCH 10 : loss= 0.1423: 100%|██████████| 10/10 [02:06<00:00, 12.67s/it]\n"
     ]
    },
    {
     "data": {
      "text/plain": [
       "[<matplotlib.lines.Line2D at 0x29b33bddb50>]"
      ]
     },
     "execution_count": 4,
     "metadata": {},
     "output_type": "execute_result"
    },
    {
     "data": {
      "image/png": "[encoded data removed]",
      "text/plain": [
       "<Figure size 640x480 with 1 Axes>"
      ]
     },
     "metadata": {},
     "output_type": "display_data"
    }
   ],
   "source": [
    "import tqdm\n",
    "\n",
    "def train(model, epochs=10, losses=[]):\n",
    "    model.train()\n",
    "    try:\n",
    "        for epoch in (bar := tqdm.trange(epochs)):\n",
    "            epoch_losses = []\n",
    "            for x,_ in train_dl:\n",
    "                x = x.float().to(device)\n",
    "                logits,mean,log_var = model(x)\n",
    "                dkl = (1+log_var - torch.exp(mean)**2 - torch.exp(log_var)) / 2\n",
    "                loss = F.mse_loss(logits, x) - dkl.mean()\n",
    "\n",
    "                # Optimizer step\n",
    "                optimizer.zero_grad()\n",
    "                loss.backward()\n",
    "                optimizer.step()\n",
    "                \n",
    "                epoch_losses.append(loss.item())\n",
    "                bar.set_description(f\"EPOCH {epoch + 1:2} : loss= {np.mean(epoch_losses[-10:]):.4f}\")\n",
    "            losses.append(np.mean(epoch_losses))\n",
    "    except KeyboardInterrupt as e:\n",
    "        print(\"Training stopped\")\n",
    "        pass\n",
    "    return losses\n",
    "\n",
    "\n",
    "losses = train(model, 10, losses=losses)\n",
    "plt.plot(losses)"
   ]
  },
  {
   "cell_type": "code",
   "execution_count": 5,
   "metadata": {},
   "outputs": [
    {
     "data": {
      "image/png": "[encoded data removed]",
      "text/plain": [
       "<Figure size 300x300 with 2 Axes>"
      ]
     },
     "metadata": {},
     "output_type": "display_data"
    },
    {
     "data": {
      "image/png": "[encoded data removed]",
      "text/plain": [
       "<Figure size 300x300 with 2 Axes>"
      ]
     },
     "metadata": {},
     "output_type": "display_data"
    },
    {
     "data": {
      "image/png": "[encoded data removed]",
      "text/plain": [
       "<Figure size 300x300 with 2 Axes>"
      ]
     },
     "metadata": {},
     "output_type": "display_data"
    },
    {
     "data": {
      "image/png": "[encoded data removed]",
      "text/plain": [
       "<Figure size 300x300 with 2 Axes>"
      ]
     },
     "metadata": {},
     "output_type": "display_data"
    },
    {
     "data": {
      "image/png": "[encoded data removed]",
      "text/plain": [
       "<Figure size 300x300 with 2 Axes>"
      ]
     },
     "metadata": {},
     "output_type": "display_data"
    },
    {
     "data": {
      "image/png": "[encoded data removed]",
      "text/plain": [
       "<Figure size 300x300 with 2 Axes>"
      ]
     },
     "metadata": {},
     "output_type": "display_data"
    },
    {
     "data": {
      "image/png": "[encoded data removed]",
      "text/plain": [
       "<Figure size 300x300 with 2 Axes>"
      ]
     },
     "metadata": {},
     "output_type": "display_data"
    },
    {
     "data": {
      "image/png": "[encoded data removed]",
      "text/plain": [
       "<Figure size 300x300 with 2 Axes>"
      ]
     },
     "metadata": {},
     "output_type": "display_data"
    },
    {
     "data": {
      "image/png": "[encoded data removed]",
      "text/plain": [
       "<Figure size 300x300 with 2 Axes>"
      ]
     },
     "metadata": {},
     "output_type": "display_data"
    },
    {
     "data": {
      "image/png": "[encoded data removed]",
      "text/plain": [
       "<Figure size 300x300 with 2 Axes>"
      ]
     },
     "metadata": {},
     "output_type": "display_data"
    }
   ],
   "source": [
    "def imshow(img,ax=None,cmap=\"gray\"):\n",
    "    if ax is None:\n",
    "        ax = plt\n",
    "    ax.imshow(img,cmap=cmap)\n",
    "    ax.axis(\"off\")\n",
    "\n",
    "\n",
    "test_dl = torch.utils.data.DataLoader(\n",
    "    torchvision.datasets.FashionMNIST(\n",
    "        \"/datasets/fashion\",\n",
    "        download=True,\n",
    "        train=False,\n",
    "        transform=torchvision.transforms.ToTensor()\n",
    "    ),\n",
    "    shuffle=False, batch_size=10,\n",
    ")\n",
    "with torch.no_grad():\n",
    "    model.eval()\n",
    "    images,y = next(iter(test_dl))\n",
    "    results = model.forward(images.to(device))[0]\n",
    "for image,result_image in zip(images.numpy(),results.cpu().numpy()):\n",
    "    _,(ax1,ax2) = plt.subplots(1,2,figsize=(3,3))\n",
    "    imshow(image[0],ax1)\n",
    "    imshow(result_image[0], ax2)"
   ]
  }
 ],
 "metadata": {
  "kernelspec": {
   "display_name": "cudatorch",
   "language": "python",
   "name": "python3"
  },
  "language_info": {
   "codemirror_mode": {
    "name": "ipython",
    "version": 3
   },
   "file_extension": ".py",
   "mimetype": "text/x-python",
   "name": "python",
   "nbconvert_exporter": "python",
   "pygments_lexer": "ipython3",
   "version": "3.12.1"
  }
 },
 "nbformat": 4,
 "nbformat_minor": 2
}
