{
 "cells": [
  {
   "cell_type": "code",
   "execution_count": null,
   "metadata": {},
   "outputs": [],
   "source": [
    "import torch\n",
    "from torch import nn\n",
    "def expect_shape_to_match(x: torch.Tensor, shape):\n",
    "    assert x.shape[1:\n",
    "                   ] == shape, f\"Expected : {shape} but found: {tuple(x.shape[1:])}\"\n",
    "\n",
    "\n",
    "class HelperModule(nn.Module):\n",
    "    def __init__(self, expected_shape) -> None:\n",
    "        super().__init__()\n",
    "        self.expected_shape = expected_shape\n",
    "\n",
    "    def custom_forward(self, *args, **kwargs):\n",
    "        res = self.forward(*args, **kwargs)\n",
    "        expect_shape_to_match(res[0] if isinstance(\n",
    "            res, tuple) else res, self.expected_shape)\n",
    "        return res\n",
    "\n",
    "\n",
    "class CustomFasterRCNN(nn.Module):\n",
    "    pass\n",
    "\n",
    "    def nparams(self):\n",
    "        return sum([p.numel() for p in self.parameters()])/1e6\n",
    "\n",
    "model = CustomFasterRCNN()"
   ]
  },
  {
   "cell_type": "code",
   "execution_count": null,
   "metadata": {},
   "outputs": [],
   "source": [
    "from torchvision.models.detection import fasterrcnn_resnet50_fpn,RetinaNet_ResNet50_FPN_Weights\n",
    "model = fasterrcnn_resnet50_fpn(pretrained=True)\n",
    "with open(\"mscoco_classes.txt\") as f: \n",
    "    classes = f.read().splitlines()"
   ]
  },
  {
   "cell_type": "code",
   "execution_count": null,
   "metadata": {},
   "outputs": [],
   "source": []
  },
  {
   "cell_type": "code",
   "execution_count": 111,
   "metadata": {},
   "outputs": [],
   "source": [
    "import matplotlib.pyplot as plt\n",
    "import cv2\n",
    "def draw_text(\n",
    "    img, text,\n",
    "    pos,\n",
    "    font=cv2.FONT_HERSHEY_COMPLEX_SMALL,\n",
    "    font_scale=1,\n",
    "    font_thickness=1,\n",
    "    text_color=(255, 255, 255),\n",
    "    text_color_bg=(0, 0, 0)\n",
    "):\n",
    "\n",
    "    x, y = pos\n",
    "    text_size, _ = cv2.getTextSize(text, font, font_scale, font_thickness)\n",
    "    text_w, text_h = text_size\n",
    "    cv2.rectangle(img, pos, (x + text_w, y + text_h), text_color_bg, -1)\n",
    "    cv2.putText(img, text, (x, y + text_h + font_scale - 1), font, font_scale, text_color, font_thickness)\n",
    "    return text_size\n",
    "def plot_bbox(image,boxes,labels,scores):\n",
    "    for box, label, score in zip(boxes.int().tolist(), labels.tolist(), scores.tolist()):\n",
    "        [x1, y1, x2, y2] = box\n",
    "        image = cv2.rectangle(image,(x1,y1),(x2,y2),(0,0,0),1)\n",
    "        classs = classes[label-1]\n",
    "        draw_text(image,f\"{classs}:{score:.1f}\",(x1,y1),font_scale=2)\n",
    "        break\n",
    "    plt.imshow(image)\n",
    "\n",
    "\n",
    "image = plt.imread(\"images/cat.webp\")\n",
    "# image = cv2.resize(image, (image.shape[1]//2, image.shape[0]//2))\n",
    "# with torch.no_grad():\n",
    "#     model.eval()\n",
    "#     res = model.forward([torch.tensor(image).permute(2, 0,1)/255])    \n",
    "# plot_bbox(image.copy(),res[0][\"boxes\"], res[0][\"labels\"], res[0][\"scores\"])"
   ]
  },
  {
   "cell_type": "code",
   "execution_count": 117,
   "metadata": {},
   "outputs": [
    {
     "data": {
      "text/plain": [
       "odict_keys(['0', '1', '2', '3', 'pool'])"
      ]
     },
     "execution_count": 117,
     "metadata": {},
     "output_type": "execute_result"
    }
   ],
   "source": [
    "imgs = torch.tensor(image).permute(2, 0, 1)[None]/255\n",
    "res = model.backbone(imgs)\n",
    "res.keys()"
   ]
  }
 ],
 "metadata": {
  "kernelspec": {
   "display_name": "cudatorch",
   "language": "python",
   "name": "python3"
  },
  "language_info": {
   "codemirror_mode": {
    "name": "ipython",
    "version": 3
   },
   "file_extension": ".py",
   "mimetype": "text/x-python",
   "name": "python",
   "nbconvert_exporter": "python",
   "pygments_lexer": "ipython3",
   "version": "3.9.5"
  }
 },
 "nbformat": 4,
 "nbformat_minor": 2
}
